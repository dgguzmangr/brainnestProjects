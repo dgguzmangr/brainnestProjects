{
 "cells": [
  {
   "attachments": {},
   "cell_type": "markdown",
   "metadata": {},
   "source": [
    "1. Write a program that prompts the user for a string and checks whether the string is a palindrome (i.e., the string reads the same forward and backward)."
   ]
  },
  {
   "cell_type": "code",
   "execution_count": 5,
   "metadata": {},
   "outputs": [
    {
     "name": "stdout",
     "output_type": "stream",
     "text": [
      "davad is palindrome\n"
     ]
    }
   ],
   "source": [
    "string = input(\"Please input a string: \")\n",
    "\n",
    "def palindrome(string):\n",
    "    if string == string[::-1]:\n",
    "        return (f\"{string} is palindrome\")\n",
    "    else:\n",
    "        return (f\"{string} is not palindrome\")\n",
    "\n",
    "print(palindrome(string))"
   ]
  },
  {
   "attachments": {},
   "cell_type": "markdown",
   "metadata": {},
   "source": [
    "2. Write a program that takes in a list of integers and returns the sum of all even numbers in the list."
   ]
  },
  {
   "cell_type": "code",
   "execution_count": 10,
   "metadata": {},
   "outputs": [
    {
     "name": "stdout",
     "output_type": "stream",
     "text": [
      "15\n"
     ]
    }
   ],
   "source": [
    "list1 = [1, 2, 3, 4, \"g\", 5, 6.8, [\"e\", 2], (\"David\", 3.8, 6)]\n",
    "\n",
    "def sum_numbers_in_list(x):\n",
    "    nums = []\n",
    "\n",
    "    for i in x:\n",
    "        if isinstance(i, int):\n",
    "            nums.append(i)\n",
    "    result = sum(nums)\n",
    "\n",
    "    return result\n",
    "\n",
    "print(sum_numbers_in_list(list1))"
   ]
  },
  {
   "attachments": {},
   "cell_type": "markdown",
   "metadata": {},
   "source": [
    "3. Write a program that prompts the user for their age and checks whether they are old enough to vote (i.e., 18 years old or older)."
   ]
  },
  {
   "cell_type": "code",
   "execution_count": 13,
   "metadata": {},
   "outputs": [
    {
     "name": "stdout",
     "output_type": "stream",
     "text": [
      "You are authorized to vote\n"
     ]
    }
   ],
   "source": [
    "age = int(input(\"How old are you?: \"))\n",
    "\n",
    "def vote_age(age):\n",
    "    if age >= 18:\n",
    "        return \"You are authorized to vote\"\n",
    "    else:\n",
    "        return \"You are not authorized to vote\"\n",
    "    \n",
    "print(vote_age(age))"
   ]
  },
  {
   "attachments": {},
   "cell_type": "markdown",
   "metadata": {},
   "source": [
    "4. Write a program that takes in a list of integers and returns the largest number in the list that is also divisible by 3."
   ]
  },
  {
   "cell_type": "code",
   "execution_count": 22,
   "metadata": {},
   "outputs": [
    {
     "name": "stdout",
     "output_type": "stream",
     "text": [
      "The number that is divisible by 3 and is the largest in the list is: 15\n"
     ]
    }
   ],
   "source": [
    "def find_largest(numbers):\n",
    "    largest = min(numbers)\n",
    "    for number in numbers:\n",
    "        if number > largest:\n",
    "            largest = number\n",
    "    if largest % 3 == 0:\n",
    "        return f\"The number that is divisible by 3 and is the largest in the list is: {largest}\"\n",
    "    else:\n",
    "        return \"There largest number in the list is not divisible by 3\"\n",
    "\n",
    "numbers = [-1,-2,-3,-4, 15]\n",
    "result = find_largest(numbers)\n",
    "print(result)"
   ]
  },
  {
   "attachments": {},
   "cell_type": "markdown",
   "metadata": {},
   "source": [
    "5. Write a program that prompts the user for a number and checks whether the number is a prime number (i.e., only divisible by 1 and itself)."
   ]
  },
  {
   "cell_type": "code",
   "execution_count": 26,
   "metadata": {},
   "outputs": [
    {
     "name": "stdout",
     "output_type": "stream",
     "text": [
      "2 is prime\n"
     ]
    }
   ],
   "source": [
    "number = int(input(\"Please enter the number: \"))\n",
    "\n",
    "def prime_number(number):\n",
    "    if number < 2:\n",
    "        return f\"{number} is not a prime number\"\n",
    "    for i in range(2, int(number ** 0.5) + 1):\n",
    "        if number % i == 0:\n",
    "            return f\"{number} is not a prime number\"\n",
    "    return f\"{number} is prime\"\n",
    "\n",
    "print(prime_number(number))"
   ]
  }
 ],
 "metadata": {
  "kernelspec": {
   "display_name": "Python 3",
   "language": "python",
   "name": "python3"
  },
  "language_info": {
   "codemirror_mode": {
    "name": "ipython",
    "version": 3
   },
   "file_extension": ".py",
   "mimetype": "text/x-python",
   "name": "python",
   "nbconvert_exporter": "python",
   "pygments_lexer": "ipython3",
   "version": "3.10.7"
  },
  "orig_nbformat": 4,
  "vscode": {
   "interpreter": {
    "hash": "f7a5be651532581cb44625d52e18aa1d390cab54bc6b51099d8c30bea9b68219"
   }
  }
 },
 "nbformat": 4,
 "nbformat_minor": 2
}
