{
 "cells": [
  {
   "attachments": {},
   "cell_type": "markdown",
   "metadata": {},
   "source": [
    "1. This program is supposed to find the largest number in a list of numbers. However, the bug in this program is that the initial value of the \"largest\" variable is set to 0. This means that if the list of numbers only contains numbers that are less than 0, the function will return 0 instead of the largest negative number."
   ]
  },
  {
   "cell_type": "code",
   "execution_count": 7,
   "metadata": {},
   "outputs": [
    {
     "name": "stdout",
     "output_type": "stream",
     "text": [
      "0\n"
     ]
    }
   ],
   "source": [
    "def find_largest(numbers): #Define la función\n",
    "    largest = 0 #Definiendo la variable largest como 0\n",
    "    for number in numbers: #Recorriendo la lista numbers\n",
    "        if number > largest: #Para cada iteración, si number es mayor que largest:\n",
    "            largest = number #largest va a ser la iteración que sea mayor\n",
    "    return largest #retorna largest\n",
    "\n",
    "numbers = [-1,-2,-3,-4]\n",
    "result = find_largest(numbers)\n",
    "print(result)"
   ]
  },
  {
   "cell_type": "code",
   "execution_count": 3,
   "metadata": {},
   "outputs": [
    {
     "name": "stdout",
     "output_type": "stream",
     "text": [
      "-1\n"
     ]
    }
   ],
   "source": [
    "#BUG RESUERTO#\n",
    "def find_largest(numbers): #Define la función\n",
    "    largest = min(numbers) #Definiendo la variable largest el menor número de la lista\n",
    "    for number in numbers: #Recorriendo la lista numbers\n",
    "        if number > largest: #Para cada iteración, si number es mayor que largest:\n",
    "            largest = number #largest va a ser la iteración que sea mayor\n",
    "    return largest #retorna largest\n",
    "\n",
    "numbers = [-1,-2,-3,-4]\n",
    "result = find_largest(numbers)\n",
    "print(result)"
   ]
  },
  {
   "attachments": {},
   "cell_type": "markdown",
   "metadata": {},
   "source": [
    "2. This program is supposed to find the duplicate elements in an array, however there is a bug in this program. The bug is that this program will return duplicate duplicate elements multiple times in the result. For example, if the input array contains 3 duplicate elements of number 3, it will return [3, 3, 3] instead of [3]."
   ]
  },
  {
   "cell_type": "code",
   "execution_count": null,
   "metadata": {},
   "outputs": [],
   "source": [
    "def find_duplicates(arr):\n",
    "    result = []\n",
    "    for i in range(len(arr)):\n",
    "        for j in range(i+1, len(arr)):\n",
    "            if arr[i] == arr[j]:\n",
    "                result.append(arr[i])\n",
    "    return result\n",
    "\n",
    "input_arr = [1, 2, 3, 4, 2, 3, 5, 6, 7, 3]\n",
    "output = find_duplicates(input_arr)\n",
    "print(output)"
   ]
  },
  {
   "cell_type": "code",
   "execution_count": 4,
   "metadata": {},
   "outputs": [
    {
     "name": "stdout",
     "output_type": "stream",
     "text": [
      "[2, 3]\n"
     ]
    }
   ],
   "source": [
    "def find_duplicates(arr):\n",
    "    result = []\n",
    "    for i in range(len(arr)):\n",
    "        for j in range(i+1, len(arr)):\n",
    "            if arr[i] == arr[j] and arr[i] not in result:\n",
    "                result.append(arr[i])\n",
    "    return result\n",
    "\n",
    "input_arr = [1, 2, 3, 4, 2, 3, 5, 6, 7, 3]\n",
    "output = find_duplicates(input_arr)\n",
    "print(output)"
   ]
  },
  {
   "attachments": {},
   "cell_type": "markdown",
   "metadata": {},
   "source": [
    "3. This program is supposed to divide two numbers, however there is a bug in this program. The bug is that this program will raise a ZeroDivisionError when the denominator is zero."
   ]
  },
  {
   "cell_type": "code",
   "execution_count": 2,
   "metadata": {},
   "outputs": [
    {
     "name": "stdout",
     "output_type": "stream",
     "text": [
      "Division by 0 not allowed\n",
      "None\n"
     ]
    }
   ],
   "source": [
    "def divide(x, y):\n",
    "    return x/y\n",
    "\n",
    "result = divide(5, 0)\n",
    "print(result)"
   ]
  },
  {
   "cell_type": "code",
   "execution_count": null,
   "metadata": {},
   "outputs": [],
   "source": [
    "def divide(x, y):\n",
    "    try:\n",
    "        return x/y\n",
    "    except ZeroDivisionError:\n",
    "        print(\"Division by 0 not allowed\")\n",
    "\n",
    "result = divide(5, 0)\n",
    "print(result)"
   ]
  },
  {
   "attachments": {},
   "cell_type": "markdown",
   "metadata": {},
   "source": [
    "4. This program is supposed to iterate through a list and print each element, however there is a bug in this program. The bug is that after the first iteration, the `data.pop(i)` command will remove the item at index `i` from the list, which will cause the list to change its size, but the variable `i` will still increment, this will cause the loop to skip an element in the list and print the wrong results."
   ]
  },
  {
   "cell_type": "code",
   "execution_count": null,
   "metadata": {},
   "outputs": [],
   "source": [
    "data = [\"item1\", \"item2\", \"item3\"]\n",
    "for i in range(len(data)):\n",
    "    print(data[i])\n",
    "    data.pop(i)"
   ]
  },
  {
   "cell_type": "code",
   "execution_count": 5,
   "metadata": {},
   "outputs": [
    {
     "name": "stdout",
     "output_type": "stream",
     "text": [
      "item1\n",
      "item2\n",
      "item3\n"
     ]
    }
   ],
   "source": [
    "data = [\"item1\", \"item2\", \"item3\"]\n",
    "for i in range(len(data)):\n",
    "    print(data[i])"
   ]
  }
 ],
 "metadata": {
  "kernelspec": {
   "display_name": "venv",
   "language": "python",
   "name": "python3"
  },
  "language_info": {
   "codemirror_mode": {
    "name": "ipython",
    "version": 3
   },
   "file_extension": ".py",
   "mimetype": "text/x-python",
   "name": "python",
   "nbconvert_exporter": "python",
   "pygments_lexer": "ipython3",
   "version": "3.10.7"
  },
  "orig_nbformat": 4,
  "vscode": {
   "interpreter": {
    "hash": "f6e2eb29edc37a4bc1d22b6e8fc430c492f0a77a4d7e602036a9223dd64ffa0a"
   }
  }
 },
 "nbformat": 4,
 "nbformat_minor": 2
}
